{
 "cells": [
  {
   "cell_type": "code",
   "execution_count": 156,
   "source": [
    "!pip install selenium\n",
    "!pip install webdriver_manager"
   ],
   "outputs": [
    {
     "output_type": "stream",
     "name": "stdout",
     "text": [
      "Requirement already satisfied: selenium in /Users/carlosperezricardo/opt/anaconda3/lib/python3.8/site-packages (3.141.0)\n",
      "Requirement already satisfied: urllib3 in /Users/carlosperezricardo/opt/anaconda3/lib/python3.8/site-packages (from selenium) (1.25.11)\n",
      "Requirement already satisfied: webdriver_manager in /Users/carlosperezricardo/opt/anaconda3/lib/python3.8/site-packages (3.4.2)\n",
      "Requirement already satisfied: requests in /Users/carlosperezricardo/opt/anaconda3/lib/python3.8/site-packages (from webdriver_manager) (2.24.0)\n",
      "Requirement already satisfied: crayons in /Users/carlosperezricardo/opt/anaconda3/lib/python3.8/site-packages (from webdriver_manager) (0.4.0)\n",
      "Requirement already satisfied: configparser in /Users/carlosperezricardo/opt/anaconda3/lib/python3.8/site-packages (from webdriver_manager) (5.0.2)\n",
      "Requirement already satisfied: colorama in /Users/carlosperezricardo/opt/anaconda3/lib/python3.8/site-packages (from crayons->webdriver_manager) (0.4.4)\n",
      "Requirement already satisfied: chardet<4,>=3.0.2 in /Users/carlosperezricardo/opt/anaconda3/lib/python3.8/site-packages (from requests->webdriver_manager) (3.0.4)\n",
      "Requirement already satisfied: certifi>=2017.4.17 in /Users/carlosperezricardo/opt/anaconda3/lib/python3.8/site-packages (from requests->webdriver_manager) (2020.6.20)\n",
      "Requirement already satisfied: idna<3,>=2.5 in /Users/carlosperezricardo/opt/anaconda3/lib/python3.8/site-packages (from requests->webdriver_manager) (2.10)\n",
      "Requirement already satisfied: urllib3!=1.25.0,!=1.25.1,<1.26,>=1.21.1 in /Users/carlosperezricardo/opt/anaconda3/lib/python3.8/site-packages (from requests->webdriver_manager) (1.25.11)\n"
     ]
    }
   ],
   "metadata": {}
  },
  {
   "cell_type": "code",
   "execution_count": 157,
   "source": [
    "from  selenium import webdriver\n",
    "from bs4 import BeautifulSoup\n",
    "import pandas as pd\n",
    "import numpy as np\n",
    "import time\n",
    "import os\n",
    "from os.path  import basename\n",
    "import requests\n",
    "from webdriver_manager.chrome import ChromeDriverManager\n",
    "from selenium.webdriver.common.keys import Keys\n",
    "\n",
    "import re"
   ],
   "outputs": [],
   "metadata": {}
  },
  {
   "cell_type": "code",
   "execution_count": 158,
   "source": [
    "main_link = 'https://www.tripadvisor.es/Restaurant_Review-g187497-d1074448-Reviews-ABaC-Barcelona_Catalonia.html'"
   ],
   "outputs": [],
   "metadata": {}
  },
  {
   "cell_type": "code",
   "execution_count": 159,
   "source": [
    "driver = webdriver.Chrome(ChromeDriverManager().install())"
   ],
   "outputs": [
    {
     "output_type": "stream",
     "name": "stderr",
     "text": [
      "\n",
      "\n",
      "====== WebDriver manager ======\n",
      "Current google-chrome version is 93.0.4577\n",
      "Get LATEST driver version for 93.0.4577\n",
      "Driver [/Users/carlosperezricardo/.wdm/drivers/chromedriver/mac64/93.0.4577.63/chromedriver] found in cache\n"
     ]
    }
   ],
   "metadata": {}
  },
  {
   "cell_type": "code",
   "execution_count": 160,
   "source": [
    "driver.get(main_link)\n",
    "time.sleep(4)"
   ],
   "outputs": [],
   "metadata": {}
  },
  {
   "cell_type": "code",
   "execution_count": 161,
   "source": [
    "# Cookies\n",
    "try: \n",
    "    driver.find_element_by_id(\"_evidon-accept-button\").click()\n",
    "except:\n",
    "    pass"
   ],
   "outputs": [],
   "metadata": {}
  },
  {
   "cell_type": "code",
   "execution_count": 162,
   "source": [
    "# Extend reviews (Mostrar más)\n",
    "driver.find_element_by_class_name(\"ulBlueLinks\").click()"
   ],
   "outputs": [],
   "metadata": {}
  },
  {
   "cell_type": "code",
   "execution_count": 163,
   "source": [
    "#See more reviews\n",
    "try:\n",
    "    driver.find_element_by_class_name(\"see-more-mobile\").click()\n",
    "except:\n",
    "    pass"
   ],
   "outputs": [],
   "metadata": {}
  },
  {
   "cell_type": "code",
   "execution_count": 164,
   "source": [
    "# We get whole reviews.\n",
    "content = driver.page_source\n",
    "soup = BeautifulSoup(content)\n",
    "\n",
    "# Repeat it!\n",
    "content = driver.page_source\n",
    "soup = BeautifulSoup(content)"
   ],
   "outputs": [],
   "metadata": {}
  },
  {
   "cell_type": "code",
   "execution_count": 165,
   "source": [
    "texts = soup.findAll(class_=\"partial_entry\")"
   ],
   "outputs": [],
   "metadata": {}
  },
  {
   "cell_type": "code",
   "execution_count": 166,
   "source": [
    "reviews = pd.DataFrame( columns=['body'])"
   ],
   "outputs": [],
   "metadata": {}
  },
  {
   "cell_type": "code",
   "execution_count": 167,
   "source": [
    "for text in texts:\n",
    "    body = text.text\n",
    "    reviews = reviews.append({'body':body}, ignore_index=True)"
   ],
   "outputs": [],
   "metadata": {}
  },
  {
   "cell_type": "code",
   "execution_count": 168,
   "source": [
    "reviews"
   ],
   "outputs": [
    {
     "output_type": "execute_result",
     "data": {
      "text/html": [
       "<div>\n",
       "<style scoped>\n",
       "    .dataframe tbody tr th:only-of-type {\n",
       "        vertical-align: middle;\n",
       "    }\n",
       "\n",
       "    .dataframe tbody tr th {\n",
       "        vertical-align: top;\n",
       "    }\n",
       "\n",
       "    .dataframe thead th {\n",
       "        text-align: right;\n",
       "    }\n",
       "</style>\n",
       "<table border=\"1\" class=\"dataframe\">\n",
       "  <thead>\n",
       "    <tr style=\"text-align: right;\">\n",
       "      <th></th>\n",
       "      <th>body</th>\n",
       "    </tr>\n",
       "  </thead>\n",
       "  <tbody>\n",
       "    <tr>\n",
       "      <th>0</th>\n",
       "      <td>Es la sensación que me ha transportado esta ex...</td>\n",
       "    </tr>\n",
       "    <tr>\n",
       "      <th>1</th>\n",
       "      <td>Es una gran experiencia y nos ha gustado mucho...</td>\n",
       "    </tr>\n",
       "    <tr>\n",
       "      <th>2</th>\n",
       "      <td>Comer en Abac es una experiencia vital que rec...</td>\n",
       "    </tr>\n",
       "    <tr>\n",
       "      <th>3</th>\n",
       "      <td>Una pena.La comida sin pena ni gloria, de un 3...</td>\n",
       "    </tr>\n",
       "    <tr>\n",
       "      <th>4</th>\n",
       "      <td>La comida nada sorprendente y más bien aburrid...</td>\n",
       "    </tr>\n",
       "    <tr>\n",
       "      <th>5</th>\n",
       "      <td>No he puesto las 5 estrellas porque, aunque la...</td>\n",
       "    </tr>\n",
       "    <tr>\n",
       "      <th>6</th>\n",
       "      <td>Menú degustación muy completo y sorpréndete. V...</td>\n",
       "    </tr>\n",
       "    <tr>\n",
       "      <th>7</th>\n",
       "      <td>Estuvimos mi mujer y yo fue un regalo para ell...</td>\n",
       "    </tr>\n",
       "    <tr>\n",
       "      <th>8</th>\n",
       "      <td>Me habría encantado poner 5 estrellas, pero so...</td>\n",
       "    </tr>\n",
       "    <tr>\n",
       "      <th>9</th>\n",
       "      <td>cocina de fusión poco sorprendente, incluso in...</td>\n",
       "    </tr>\n",
       "  </tbody>\n",
       "</table>\n",
       "</div>"
      ],
      "text/plain": [
       "                                                body\n",
       "0  Es la sensación que me ha transportado esta ex...\n",
       "1  Es una gran experiencia y nos ha gustado mucho...\n",
       "2  Comer en Abac es una experiencia vital que rec...\n",
       "3  Una pena.La comida sin pena ni gloria, de un 3...\n",
       "4  La comida nada sorprendente y más bien aburrid...\n",
       "5  No he puesto las 5 estrellas porque, aunque la...\n",
       "6  Menú degustación muy completo y sorpréndete. V...\n",
       "7  Estuvimos mi mujer y yo fue un regalo para ell...\n",
       "8  Me habría encantado poner 5 estrellas, pero so...\n",
       "9  cocina de fusión poco sorprendente, incluso in..."
      ]
     },
     "metadata": {},
     "execution_count": 168
    }
   ],
   "metadata": {}
  },
  {
   "cell_type": "code",
   "execution_count": 169,
   "source": [
    "content = driver.page_source\n",
    "soup = BeautifulSoup(content)"
   ],
   "outputs": [],
   "metadata": {}
  },
  {
   "cell_type": "code",
   "execution_count": 170,
   "source": [
    "# Next page\n",
    "driver.find_element_by_class_name(\"next\").click()"
   ],
   "outputs": [],
   "metadata": {}
  },
  {
   "cell_type": "code",
   "execution_count": 171,
   "source": [
    "content = driver.page_source\n",
    "soup = BeautifulSoup(content)"
   ],
   "outputs": [],
   "metadata": {}
  },
  {
   "cell_type": "code",
   "execution_count": 172,
   "source": [
    "texts = soup.findAll(class_=\"partial_entry\")"
   ],
   "outputs": [],
   "metadata": {}
  },
  {
   "cell_type": "code",
   "execution_count": 173,
   "source": [
    "for text in texts:\n",
    "    body = text.text\n",
    "    reviews = reviews.append({'body':body}, ignore_index=True)"
   ],
   "outputs": [],
   "metadata": {}
  },
  {
   "cell_type": "code",
   "execution_count": 174,
   "source": [
    "loop = True\n",
    "i = 2\n",
    "max_loops = 200\n",
    "while loop == True and i < max_loops:\n",
    "    content = driver.page_source\n",
    "    soup = BeautifulSoup(content)\n",
    "\n",
    "    try:   \n",
    "        \n",
    "        # Go to Next Page\n",
    "        driver.find_element_by_class_name(\"next\").click()\n",
    "        time.sleep(4)\n",
    "        \n",
    "        # Extend reviews (Mostrar más)\n",
    "        try:\n",
    "            driver.find_element_by_class_name(\"ulBlueLinks\").click()\n",
    "        except:\n",
    "            pass\n",
    "        \n",
    "        time.sleep(2)\n",
    "        \n",
    "        content = driver.page_source\n",
    "        soup = BeautifulSoup(content)\n",
    "        content = driver.page_source\n",
    "        soup = BeautifulSoup(content)\n",
    "\n",
    "        texts = soup.findAll(class_=\"partial_entry\")\n",
    "\n",
    "        for text in texts:\n",
    "            body = text.text\n",
    "            reviews = reviews.append({'body':body}, ignore_index=True)\n",
    "\n",
    "        i+=1\n",
    "        print('Page',i)\n",
    "    except:\n",
    "        loop = False \n",
    "        print('Leaving while')"
   ],
   "outputs": [
    {
     "output_type": "stream",
     "name": "stdout",
     "text": [
      "Page 3\n",
      "Page 4\n",
      "Page 5\n",
      "Page 6\n",
      "Page 7\n",
      "Page 8\n",
      "Page 9\n",
      "Page 10\n",
      "Page 11\n",
      "Page 12\n",
      "Page 13\n",
      "Page 14\n",
      "Page 15\n",
      "Page 16\n",
      "Page 17\n",
      "Page 18\n",
      "Page 19\n",
      "Page 20\n",
      "Page 21\n",
      "Page 22\n",
      "Page 23\n",
      "Page 24\n",
      "Page 25\n",
      "Page 26\n",
      "Page 27\n",
      "Page 28\n",
      "Page 29\n",
      "Page 30\n",
      "Page 31\n",
      "Page 32\n",
      "Page 33\n",
      "Page 34\n",
      "Page 35\n",
      "Page 36\n",
      "Page 37\n",
      "Page 38\n",
      "Page 39\n",
      "Page 40\n",
      "Page 41\n",
      "Page 42\n",
      "Page 43\n",
      "Page 44\n",
      "Page 45\n",
      "Page 46\n",
      "Page 47\n",
      "Page 48\n",
      "Page 49\n",
      "Page 50\n",
      "Page 51\n",
      "Page 52\n",
      "Page 53\n",
      "Page 54\n",
      "Page 55\n",
      "Page 56\n",
      "Page 57\n",
      "Page 58\n",
      "Page 59\n",
      "Page 60\n",
      "Page 61\n",
      "Page 62\n",
      "Page 63\n",
      "Page 64\n",
      "Page 65\n",
      "Page 66\n",
      "Page 67\n",
      "Page 68\n",
      "Page 69\n",
      "Page 70\n",
      "Page 71\n",
      "Page 72\n",
      "Page 73\n",
      "Page 74\n",
      "Page 75\n",
      "Page 76\n",
      "Page 77\n",
      "Page 78\n",
      "Page 79\n",
      "Page 80\n",
      "Page 81\n",
      "Page 82\n",
      "Page 83\n",
      "Page 84\n",
      "Page 85\n",
      "Page 86\n",
      "Page 87\n",
      "Page 88\n",
      "Page 89\n",
      "Page 90\n",
      "Page 91\n",
      "Page 92\n",
      "Page 93\n",
      "Page 94\n",
      "Page 95\n",
      "Page 96\n",
      "Page 97\n",
      "Page 98\n",
      "Page 99\n",
      "Page 100\n",
      "Page 101\n",
      "Page 102\n",
      "Page 103\n",
      "Page 104\n",
      "Page 105\n",
      "Page 106\n",
      "Page 107\n",
      "Page 108\n",
      "Page 109\n",
      "Page 110\n",
      "Page 111\n",
      "Page 112\n",
      "Page 113\n",
      "Page 114\n",
      "Page 115\n",
      "Page 116\n",
      "Page 117\n",
      "Page 118\n",
      "Page 119\n",
      "Page 120\n",
      "Page 121\n",
      "Page 122\n",
      "Page 123\n",
      "Page 124\n",
      "Page 125\n",
      "Page 126\n",
      "Page 127\n",
      "Page 128\n",
      "Page 129\n",
      "Page 130\n",
      "Page 131\n",
      "Page 132\n",
      "Page 133\n",
      "Page 134\n",
      "Page 135\n",
      "Page 136\n",
      "Page 137\n",
      "Page 138\n",
      "Page 139\n",
      "Page 140\n",
      "Page 141\n",
      "Page 142\n",
      "Page 143\n",
      "Page 144\n",
      "Page 145\n",
      "Page 146\n",
      "Page 147\n",
      "Page 148\n",
      "Page 149\n",
      "Page 150\n",
      "Page 151\n",
      "Page 152\n",
      "Page 153\n",
      "Page 154\n",
      "Page 155\n",
      "Page 156\n",
      "Page 157\n",
      "Page 158\n",
      "Page 159\n",
      "Leaving while\n"
     ]
    }
   ],
   "metadata": {}
  },
  {
   "cell_type": "code",
   "execution_count": 175,
   "source": [
    "reviews.to_csv('ABaC_reviews.csv')"
   ],
   "outputs": [],
   "metadata": {}
  },
  {
   "cell_type": "code",
   "execution_count": 181,
   "source": [
    "reviews.iloc[249]['body']"
   ],
   "outputs": [
    {
     "output_type": "execute_result",
     "data": {
      "text/plain": [
       "'Todo un ritual. Desde el recibimiento hasta el ultimo detalle estan cuidadisimos. La comida es espectacular, con platos que te estimulan todos los sentidos. El maridaje nos dejó boquiabiertos, acostumbrados a maridajes exclusivamente de vinos. Sake y cerveza que bailaban con los platos que acompañaban tanto o mas que los vinos que nos fueron sirviendo. Magia y arte en uno! '"
      ]
     },
     "metadata": {},
     "execution_count": 181
    }
   ],
   "metadata": {}
  }
 ],
 "metadata": {
  "orig_nbformat": 4,
  "language_info": {
   "name": "python",
   "version": "3.8.5",
   "mimetype": "text/x-python",
   "codemirror_mode": {
    "name": "ipython",
    "version": 3
   },
   "pygments_lexer": "ipython3",
   "nbconvert_exporter": "python",
   "file_extension": ".py"
  },
  "kernelspec": {
   "name": "python3",
   "display_name": "Python 3.8.5 64-bit ('base': conda)"
  },
  "interpreter": {
   "hash": "1f1ade11a66f379951eb785ed5ab9940defd282e53b6a037182efca5c962c31b"
  }
 },
 "nbformat": 4,
 "nbformat_minor": 2
}